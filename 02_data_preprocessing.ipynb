{
 "cells": [
  {
   "cell_type": "code",
   "execution_count": 31,
   "metadata": {},
   "outputs": [],
   "source": [
    "import pandas as pd\n",
    "import numpy as np\n",
    "import os\n",
    "from sklearn.model_selection import train_test_split"
   ]
  },
  {
   "cell_type": "code",
   "execution_count": 32,
   "id": "aa767191",
   "metadata": {},
   "outputs": [
    {
     "data": {
      "application/vnd.microsoft.datawrangler.viewer.v0+json": {
       "columns": [
        {
         "name": "index",
         "rawType": "int64",
         "type": "integer"
        },
        {
         "name": "Age",
         "rawType": "float64",
         "type": "float"
        },
        {
         "name": "Gender",
         "rawType": "object",
         "type": "string"
        },
        {
         "name": "Weight (kg)",
         "rawType": "float64",
         "type": "float"
        },
        {
         "name": "Height (m)",
         "rawType": "float64",
         "type": "float"
        },
        {
         "name": "Max_BPM",
         "rawType": "float64",
         "type": "float"
        },
        {
         "name": "Avg_BPM",
         "rawType": "float64",
         "type": "float"
        },
        {
         "name": "Resting_BPM",
         "rawType": "float64",
         "type": "float"
        },
        {
         "name": "Session_Duration (hours)",
         "rawType": "float64",
         "type": "float"
        },
        {
         "name": "Calories_Burned",
         "rawType": "float64",
         "type": "float"
        },
        {
         "name": "Workout_Type",
         "rawType": "object",
         "type": "string"
        },
        {
         "name": "Fat_Percentage",
         "rawType": "float64",
         "type": "float"
        },
        {
         "name": "Water_Intake (liters)",
         "rawType": "float64",
         "type": "float"
        },
        {
         "name": "Workout_Frequency (days/week)",
         "rawType": "float64",
         "type": "float"
        },
        {
         "name": "Experience_Level",
         "rawType": "float64",
         "type": "float"
        },
        {
         "name": "BMI",
         "rawType": "float64",
         "type": "float"
        },
        {
         "name": "Daily meals frequency",
         "rawType": "float64",
         "type": "float"
        },
        {
         "name": "Physical exercise",
         "rawType": "float64",
         "type": "float"
        },
        {
         "name": "Carbs",
         "rawType": "float64",
         "type": "float"
        },
        {
         "name": "Proteins",
         "rawType": "float64",
         "type": "float"
        },
        {
         "name": "Fats",
         "rawType": "float64",
         "type": "float"
        },
        {
         "name": "Calories",
         "rawType": "float64",
         "type": "float"
        },
        {
         "name": "meal_name",
         "rawType": "object",
         "type": "string"
        },
        {
         "name": "meal_type",
         "rawType": "object",
         "type": "string"
        },
        {
         "name": "diet_type",
         "rawType": "object",
         "type": "string"
        },
        {
         "name": "sugar_g",
         "rawType": "float64",
         "type": "float"
        },
        {
         "name": "sodium_mg",
         "rawType": "float64",
         "type": "float"
        },
        {
         "name": "cholesterol_mg",
         "rawType": "float64",
         "type": "float"
        },
        {
         "name": "serving_size_g",
         "rawType": "float64",
         "type": "float"
        },
        {
         "name": "cooking_method",
         "rawType": "object",
         "type": "string"
        },
        {
         "name": "prep_time_min",
         "rawType": "float64",
         "type": "float"
        },
        {
         "name": "cook_time_min",
         "rawType": "float64",
         "type": "float"
        },
        {
         "name": "rating",
         "rawType": "float64",
         "type": "float"
        },
        {
         "name": "is_healthy",
         "rawType": "float64",
         "type": "float"
        },
        {
         "name": "Name of Exercise",
         "rawType": "object",
         "type": "string"
        },
        {
         "name": "Sets",
         "rawType": "float64",
         "type": "float"
        },
        {
         "name": "Reps",
         "rawType": "float64",
         "type": "float"
        },
        {
         "name": "Benefit",
         "rawType": "object",
         "type": "string"
        },
        {
         "name": "Burns Calories (per 30 min)",
         "rawType": "float64",
         "type": "float"
        },
        {
         "name": "Target Muscle Group",
         "rawType": "object",
         "type": "string"
        },
        {
         "name": "Equipment Needed",
         "rawType": "object",
         "type": "string"
        },
        {
         "name": "Difficulty Level",
         "rawType": "object",
         "type": "string"
        },
        {
         "name": "Body Part",
         "rawType": "object",
         "type": "string"
        },
        {
         "name": "Type of Muscle",
         "rawType": "object",
         "type": "string"
        },
        {
         "name": "Workout",
         "rawType": "object",
         "type": "string"
        },
        {
         "name": "BMI_calc",
         "rawType": "float64",
         "type": "float"
        },
        {
         "name": "cal_from_macros",
         "rawType": "float64",
         "type": "float"
        },
        {
         "name": "pct_carbs",
         "rawType": "float64",
         "type": "float"
        },
        {
         "name": "protein_per_kg",
         "rawType": "float64",
         "type": "float"
        },
        {
         "name": "pct_HRR",
         "rawType": "float64",
         "type": "float"
        },
        {
         "name": "pct_maxHR",
         "rawType": "float64",
         "type": "float"
        },
        {
         "name": "cal_balance",
         "rawType": "float64",
         "type": "float"
        },
        {
         "name": "lean_mass_kg",
         "rawType": "float64",
         "type": "float"
        },
        {
         "name": "expected_burn",
         "rawType": "float64",
         "type": "float"
        }
       ],
       "ref": "1b5db587-4263-491a-9537-b74596527c60",
       "rows": [
        [
         "0",
         "34.91",
         "Male",
         "65.27",
         "1.62",
         "188.58",
         "157.65",
         "69.05",
         "1.0",
         "1080.9",
         "Strength",
         "26.800377179186803",
         "1.5",
         "3.99",
         "2.01",
         "24.87",
         "2.99",
         "0.01",
         "267.68",
         "106.05",
         "71.63",
         "1806.0",
         "Affect Stew",
         "Lunch",
         "Vegan",
         "31.77",
         "1729.94",
         "285.05",
         "120.47",
         "Grilled",
         "16.24",
         "110.79",
         "1.31",
         "-0.0",
         "Decline Push-ups",
         "4.99",
         "20.91",
         "Improves shoulder health and posture",
         "342.58",
         "Shoulders, Triceps",
         "Cable Machine",
         "Advanced",
         "Legs",
         "Lats",
         "Dumbbell flyes",
         "24.8704465782655",
         "2139.59",
         "0.5004323258194326",
         "1.624789336601808",
         "0.7412365096628462",
         "0.8359847279669106",
         "725.0999999999999",
         "47.77739381514478",
         "685.16"
        ],
        [
         "1",
         "23.37",
         "Female",
         "56.41",
         "1.55",
         "179.43",
         "131.75",
         "73.18",
         "1.37",
         "1809.91",
         "HIIT",
         "27.65502094955822",
         "1.9",
         "4.0",
         "2.01",
         "23.48",
         "3.01",
         "0.97",
         "214.32",
         "85.41",
         "56.97",
         "1577.0",
         "Writer Rice",
         "Lunch",
         "Vegetarian",
         "12.34",
         "693.08",
         "300.61",
         "109.15",
         "Fried",
         "16.47",
         "12.01",
         "1.92",
         "0.01",
         "Bear Crawls",
         "4.01",
         "16.15",
         "Strengthens lower abs",
         "357.16",
         "Back, Core, Shoulders",
         "Step or Box",
         "Intermediate",
         "Chest",
         "Lats",
         "Lateral raises",
         "23.479708636836623",
         "1711.65",
         "0.5008500569625799",
         "1.5140932458783904",
         "0.5512470588235293",
         "0.7342696316112133",
         "-232.91000000000008",
         "40.8098026823542",
         "978.6184000000002"
        ],
        [
         "2",
         "33.2",
         "Female",
         "58.98",
         "1.67",
         "175.04",
         "123.95",
         "54.96",
         "0.91",
         "802.26",
         "Cardio",
         "24.32082112410528",
         "1.88",
         "2.99",
         "1.02",
         "21.15",
         "1.99",
         "-0.02",
         "246.04",
         "98.11",
         "65.48",
         "1608.0",
         "Television Stew",
         "Breakfast",
         "Paleo",
         "42.81",
         "2142.48",
         "215.42",
         "399.43",
         "Boiled",
         "54.35",
         "6.09",
         "4.7",
         "0.0",
         "Dips",
         "5.0",
         "21.9",
         "Builds chest strength",
         "359.63",
         "Quadriceps, Glutes",
         "Step or Box",
         "Intermediate",
         "Arms",
         "Grip Strength",
         "Standing calf raises",
         "21.148122915844954",
         "1965.92",
         "0.5006104012370798",
         "1.6634452356731095",
         "0.5745336442371753",
         "0.708123857404022",
         "805.74",
         "44.63557970100271",
         "654.5266"
        ],
        [
         "3",
         "38.69",
         "Female",
         "93.78",
         "1.7",
         "191.21",
         "155.1",
         "50.07",
         "1.1",
         "1450.79",
         "HIIT",
         "32.81357178608907",
         "2.5",
         "3.99",
         "1.99",
         "32.45",
         "3.0",
         "0.04",
         "203.22",
         "80.84",
         "54.56",
         "2657.0",
         "Plant Curry",
         "Lunch",
         "Paleo",
         "9.34",
         "123.2",
         "9.7",
         "314.31",
         "Fried",
         "27.73",
         "103.72",
         "4.85",
         "0.01",
         "Mountain Climbers",
         "4.01",
         "16.92",
         "Improves coordination and cardiovascular health",
         "351.65",
         "Biceps, Forearms",
         "Parallel Bars or Chair",
         "Advanced",
         "Shoulders",
         "Upper",
         "Incline dumbbell flyes",
         "32.44982698961938",
         "1627.28",
         "0.499532962981171",
         "0.8620174877372574",
         "0.7441547399744933",
         "0.811150044453742",
         "1206.21",
         "63.00743237900567",
         "773.63"
        ],
        [
         "4",
         "45.09",
         "Male",
         "52.42",
         "1.88",
         "193.58",
         "152.88",
         "70.84",
         "1.08",
         "1166.4",
         "Strength",
         "17.307318603384633",
         "2.91",
         "4.0",
         "2.0",
         "14.83",
         "3.0",
         "3.0",
         "332.79",
         "133.05",
         "88.43",
         "1470.0",
         "Her Stew",
         "Breakfast",
         "Vegan",
         "23.78",
         "1935.11",
         "116.89",
         "99.22",
         "Baked",
         "34.16",
         "46.55",
         "3.07",
         "0.01",
         "Bicep Curls",
         "4.99",
         "15.01",
         "Targets obliques and improves core rotation",
         "329.36",
         "Chest, Triceps",
         "Wall",
         "Advanced",
         "Abs",
         "Wrist Flexors",
         "Military press",
         "14.831371661385244",
         "2659.2300000000005",
         "0.5005809952505048",
         "2.538153376573827",
         "0.6684047580250936",
         "0.7897510073354684",
         "303.5999999999999",
         "43.34750358810577",
         "711.4176000000001"
        ]
       ],
       "shape": {
        "columns": 53,
        "rows": 5
       }
      },
      "text/html": [
       "<div>\n",
       "<style scoped>\n",
       "    .dataframe tbody tr th:only-of-type {\n",
       "        vertical-align: middle;\n",
       "    }\n",
       "\n",
       "    .dataframe tbody tr th {\n",
       "        vertical-align: top;\n",
       "    }\n",
       "\n",
       "    .dataframe thead th {\n",
       "        text-align: right;\n",
       "    }\n",
       "</style>\n",
       "<table border=\"1\" class=\"dataframe\">\n",
       "  <thead>\n",
       "    <tr style=\"text-align: right;\">\n",
       "      <th></th>\n",
       "      <th>Age</th>\n",
       "      <th>Gender</th>\n",
       "      <th>Weight (kg)</th>\n",
       "      <th>Height (m)</th>\n",
       "      <th>Max_BPM</th>\n",
       "      <th>Avg_BPM</th>\n",
       "      <th>Resting_BPM</th>\n",
       "      <th>Session_Duration (hours)</th>\n",
       "      <th>Calories_Burned</th>\n",
       "      <th>Workout_Type</th>\n",
       "      <th>...</th>\n",
       "      <th>Workout</th>\n",
       "      <th>BMI_calc</th>\n",
       "      <th>cal_from_macros</th>\n",
       "      <th>pct_carbs</th>\n",
       "      <th>protein_per_kg</th>\n",
       "      <th>pct_HRR</th>\n",
       "      <th>pct_maxHR</th>\n",
       "      <th>cal_balance</th>\n",
       "      <th>lean_mass_kg</th>\n",
       "      <th>expected_burn</th>\n",
       "    </tr>\n",
       "  </thead>\n",
       "  <tbody>\n",
       "    <tr>\n",
       "      <th>0</th>\n",
       "      <td>34.91</td>\n",
       "      <td>Male</td>\n",
       "      <td>65.27</td>\n",
       "      <td>1.62</td>\n",
       "      <td>188.58</td>\n",
       "      <td>157.65</td>\n",
       "      <td>69.05</td>\n",
       "      <td>1.00</td>\n",
       "      <td>1080.90</td>\n",
       "      <td>Strength</td>\n",
       "      <td>...</td>\n",
       "      <td>Dumbbell flyes</td>\n",
       "      <td>24.870447</td>\n",
       "      <td>2139.59</td>\n",
       "      <td>0.500432</td>\n",
       "      <td>1.624789</td>\n",
       "      <td>0.741237</td>\n",
       "      <td>0.835985</td>\n",
       "      <td>725.10</td>\n",
       "      <td>47.777394</td>\n",
       "      <td>685.1600</td>\n",
       "    </tr>\n",
       "    <tr>\n",
       "      <th>1</th>\n",
       "      <td>23.37</td>\n",
       "      <td>Female</td>\n",
       "      <td>56.41</td>\n",
       "      <td>1.55</td>\n",
       "      <td>179.43</td>\n",
       "      <td>131.75</td>\n",
       "      <td>73.18</td>\n",
       "      <td>1.37</td>\n",
       "      <td>1809.91</td>\n",
       "      <td>HIIT</td>\n",
       "      <td>...</td>\n",
       "      <td>Lateral raises</td>\n",
       "      <td>23.479709</td>\n",
       "      <td>1711.65</td>\n",
       "      <td>0.500850</td>\n",
       "      <td>1.514093</td>\n",
       "      <td>0.551247</td>\n",
       "      <td>0.734270</td>\n",
       "      <td>-232.91</td>\n",
       "      <td>40.809803</td>\n",
       "      <td>978.6184</td>\n",
       "    </tr>\n",
       "    <tr>\n",
       "      <th>2</th>\n",
       "      <td>33.20</td>\n",
       "      <td>Female</td>\n",
       "      <td>58.98</td>\n",
       "      <td>1.67</td>\n",
       "      <td>175.04</td>\n",
       "      <td>123.95</td>\n",
       "      <td>54.96</td>\n",
       "      <td>0.91</td>\n",
       "      <td>802.26</td>\n",
       "      <td>Cardio</td>\n",
       "      <td>...</td>\n",
       "      <td>Standing calf raises</td>\n",
       "      <td>21.148123</td>\n",
       "      <td>1965.92</td>\n",
       "      <td>0.500610</td>\n",
       "      <td>1.663445</td>\n",
       "      <td>0.574534</td>\n",
       "      <td>0.708124</td>\n",
       "      <td>805.74</td>\n",
       "      <td>44.635580</td>\n",
       "      <td>654.5266</td>\n",
       "    </tr>\n",
       "    <tr>\n",
       "      <th>3</th>\n",
       "      <td>38.69</td>\n",
       "      <td>Female</td>\n",
       "      <td>93.78</td>\n",
       "      <td>1.70</td>\n",
       "      <td>191.21</td>\n",
       "      <td>155.10</td>\n",
       "      <td>50.07</td>\n",
       "      <td>1.10</td>\n",
       "      <td>1450.79</td>\n",
       "      <td>HIIT</td>\n",
       "      <td>...</td>\n",
       "      <td>Incline dumbbell flyes</td>\n",
       "      <td>32.449827</td>\n",
       "      <td>1627.28</td>\n",
       "      <td>0.499533</td>\n",
       "      <td>0.862017</td>\n",
       "      <td>0.744155</td>\n",
       "      <td>0.811150</td>\n",
       "      <td>1206.21</td>\n",
       "      <td>63.007432</td>\n",
       "      <td>773.6300</td>\n",
       "    </tr>\n",
       "    <tr>\n",
       "      <th>4</th>\n",
       "      <td>45.09</td>\n",
       "      <td>Male</td>\n",
       "      <td>52.42</td>\n",
       "      <td>1.88</td>\n",
       "      <td>193.58</td>\n",
       "      <td>152.88</td>\n",
       "      <td>70.84</td>\n",
       "      <td>1.08</td>\n",
       "      <td>1166.40</td>\n",
       "      <td>Strength</td>\n",
       "      <td>...</td>\n",
       "      <td>Military press</td>\n",
       "      <td>14.831372</td>\n",
       "      <td>2659.23</td>\n",
       "      <td>0.500581</td>\n",
       "      <td>2.538153</td>\n",
       "      <td>0.668405</td>\n",
       "      <td>0.789751</td>\n",
       "      <td>303.60</td>\n",
       "      <td>43.347504</td>\n",
       "      <td>711.4176</td>\n",
       "    </tr>\n",
       "  </tbody>\n",
       "</table>\n",
       "<p>5 rows × 53 columns</p>\n",
       "</div>"
      ],
      "text/plain": [
       "     Age  Gender  Weight (kg)  Height (m)  Max_BPM  Avg_BPM  Resting_BPM  \\\n",
       "0  34.91    Male        65.27        1.62   188.58   157.65        69.05   \n",
       "1  23.37  Female        56.41        1.55   179.43   131.75        73.18   \n",
       "2  33.20  Female        58.98        1.67   175.04   123.95        54.96   \n",
       "3  38.69  Female        93.78        1.70   191.21   155.10        50.07   \n",
       "4  45.09    Male        52.42        1.88   193.58   152.88        70.84   \n",
       "\n",
       "   Session_Duration (hours)  Calories_Burned Workout_Type  ...  \\\n",
       "0                      1.00          1080.90     Strength  ...   \n",
       "1                      1.37          1809.91         HIIT  ...   \n",
       "2                      0.91           802.26       Cardio  ...   \n",
       "3                      1.10          1450.79         HIIT  ...   \n",
       "4                      1.08          1166.40     Strength  ...   \n",
       "\n",
       "                  Workout   BMI_calc  cal_from_macros  pct_carbs  \\\n",
       "0          Dumbbell flyes  24.870447          2139.59   0.500432   \n",
       "1          Lateral raises  23.479709          1711.65   0.500850   \n",
       "2    Standing calf raises  21.148123          1965.92   0.500610   \n",
       "3  Incline dumbbell flyes  32.449827          1627.28   0.499533   \n",
       "4          Military press  14.831372          2659.23   0.500581   \n",
       "\n",
       "   protein_per_kg   pct_HRR  pct_maxHR  cal_balance  lean_mass_kg  \\\n",
       "0        1.624789  0.741237   0.835985       725.10     47.777394   \n",
       "1        1.514093  0.551247   0.734270      -232.91     40.809803   \n",
       "2        1.663445  0.574534   0.708124       805.74     44.635580   \n",
       "3        0.862017  0.744155   0.811150      1206.21     63.007432   \n",
       "4        2.538153  0.668405   0.789751       303.60     43.347504   \n",
       "\n",
       "   expected_burn  \n",
       "0       685.1600  \n",
       "1       978.6184  \n",
       "2       654.5266  \n",
       "3       773.6300  \n",
       "4       711.4176  \n",
       "\n",
       "[5 rows x 53 columns]"
      ]
     },
     "execution_count": 32,
     "metadata": {},
     "output_type": "execute_result"
    }
   ],
   "source": [
    "# load dataset\n",
    "df = pd.read_csv(\"../data/raw/life_style.csv\")\n",
    "# display first few rows\n",
    "df.head()"
   ]
  },
  {
   "cell_type": "code",
   "execution_count": 33,
   "id": "f0a53f8c",
   "metadata": {},
   "outputs": [
    {
     "data": {
      "text/plain": [
       "Index(['Age', 'Gender', 'Weight (kg)', 'Height (m)', 'Max_BPM', 'Avg_BPM',\n",
       "       'Resting_BPM', 'Session_Duration (hours)', 'Calories_Burned',\n",
       "       'Workout_Type', 'Fat_Percentage', 'Water_Intake (liters)',\n",
       "       'Workout_Frequency (days/week)', 'Experience_Level', 'BMI',\n",
       "       'Daily meals frequency', 'Physical exercise', 'Carbs', 'Proteins',\n",
       "       'Fats', 'Calories', 'meal_name', 'meal_type', 'diet_type', 'sugar_g',\n",
       "       'sodium_mg', 'cholesterol_mg', 'serving_size_g', 'cooking_method',\n",
       "       'prep_time_min', 'cook_time_min', 'rating', 'is_healthy',\n",
       "       'Name of Exercise', 'Sets', 'Reps', 'Benefit',\n",
       "       'Burns Calories (per 30 min)', 'Target Muscle Group',\n",
       "       'Equipment Needed', 'Difficulty Level', 'Body Part', 'Type of Muscle',\n",
       "       'Workout', 'BMI_calc', 'cal_from_macros', 'pct_carbs', 'protein_per_kg',\n",
       "       'pct_HRR', 'pct_maxHR', 'cal_balance', 'lean_mass_kg', 'expected_burn'],\n",
       "      dtype='object')"
      ]
     },
     "execution_count": 33,
     "metadata": {},
     "output_type": "execute_result"
    }
   ],
   "source": [
    "df.columns"
   ]
  },
  {
   "cell_type": "code",
   "execution_count": 34,
   "id": "ed575aa1",
   "metadata": {},
   "outputs": [],
   "source": [
    "# replacing space in column names with underscore and making lowercase\n",
    "# preprocessing column names\n",
    "df.columns = df.columns.str.replace(' ', '_').str.lower()"
   ]
  },
  {
   "cell_type": "code",
   "execution_count": 35,
   "id": "8382c8bc",
   "metadata": {},
   "outputs": [
    {
     "data": {
      "text/plain": [
       "Index(['age', 'gender', 'weight_(kg)', 'height_(m)', 'max_bpm', 'avg_bpm',\n",
       "       'resting_bpm', 'session_duration_(hours)', 'calories_burned',\n",
       "       'workout_type', 'fat_percentage', 'water_intake_(liters)',\n",
       "       'workout_frequency_(days/week)', 'experience_level', 'bmi',\n",
       "       'daily_meals_frequency', 'physical_exercise', 'carbs', 'proteins',\n",
       "       'fats', 'calories', 'meal_name', 'meal_type', 'diet_type', 'sugar_g',\n",
       "       'sodium_mg', 'cholesterol_mg', 'serving_size_g', 'cooking_method',\n",
       "       'prep_time_min', 'cook_time_min', 'rating', 'is_healthy',\n",
       "       'name_of_exercise', 'sets', 'reps', 'benefit',\n",
       "       'burns_calories_(per_30_min)', 'target_muscle_group',\n",
       "       'equipment_needed', 'difficulty_level', 'body_part', 'type_of_muscle',\n",
       "       'workout', 'bmi_calc', 'cal_from_macros', 'pct_carbs', 'protein_per_kg',\n",
       "       'pct_hrr', 'pct_maxhr', 'cal_balance', 'lean_mass_kg', 'expected_burn'],\n",
       "      dtype='object')"
      ]
     },
     "execution_count": 35,
     "metadata": {},
     "output_type": "execute_result"
    }
   ],
   "source": [
    "# let's see the updated column names\n",
    "df.columns\n"
   ]
  },
  {
   "cell_type": "code",
   "execution_count": 36,
   "id": "ebc68221",
   "metadata": {},
   "outputs": [],
   "source": [
    "# saving preprocessing dataset\n",
    "os.makedirs(\"../data/processed/\", exist_ok=True)\n",
    "df.to_csv(\"../data/processed/life_style_cleaned.csv\", index=False)"
   ]
  },
  {
   "cell_type": "code",
   "execution_count": 37,
   "id": "fe8a05ee",
   "metadata": {},
   "outputs": [],
   "source": [
    "train_set, test_set = train_test_split(df, test_size=0.2, random_state=42)"
   ]
  },
  {
   "cell_type": "code",
   "execution_count": 38,
   "id": "044a0292",
   "metadata": {},
   "outputs": [],
   "source": [
    "# splitting the dataset into training and testing sets and save them to interim folder\n",
    "\n",
    "os.makedirs('../data/interim', exist_ok=True)\n",
    "train_set.to_csv('../data/interim/train_set.csv', index=False)\n",
    "test_set.to_csv('../data/interim/test_set.csv', index=False)"
   ]
  },
  {
   "cell_type": "code",
   "execution_count": 39,
   "id": "fbe6de07",
   "metadata": {},
   "outputs": [
    {
     "data": {
      "text/plain": [
       "((16000, 53), (4000, 53))"
      ]
     },
     "execution_count": 39,
     "metadata": {},
     "output_type": "execute_result"
    }
   ],
   "source": [
    "# working with the training set for further preprocessing\n",
    "train_set.shape, test_set.shape"
   ]
  },
  {
   "cell_type": "code",
   "execution_count": 40,
   "id": "91a48b5e",
   "metadata": {},
   "outputs": [
    {
     "data": {
      "text/plain": [
       "Index(['age', 'gender', 'weight_(kg)', 'height_(m)', 'max_bpm', 'avg_bpm',\n",
       "       'resting_bpm', 'session_duration_(hours)', 'calories_burned',\n",
       "       'workout_type', 'fat_percentage', 'water_intake_(liters)',\n",
       "       'workout_frequency_(days/week)', 'experience_level', 'bmi',\n",
       "       'daily_meals_frequency', 'physical_exercise', 'carbs', 'proteins',\n",
       "       'fats', 'calories', 'meal_name', 'meal_type', 'diet_type', 'sugar_g',\n",
       "       'sodium_mg', 'cholesterol_mg', 'serving_size_g', 'cooking_method',\n",
       "       'prep_time_min', 'cook_time_min', 'rating', 'is_healthy',\n",
       "       'name_of_exercise', 'sets', 'reps', 'benefit',\n",
       "       'burns_calories_(per_30_min)', 'target_muscle_group',\n",
       "       'equipment_needed', 'difficulty_level', 'body_part', 'type_of_muscle',\n",
       "       'workout', 'bmi_calc', 'cal_from_macros', 'pct_carbs', 'protein_per_kg',\n",
       "       'pct_hrr', 'pct_maxhr', 'cal_balance', 'lean_mass_kg', 'expected_burn'],\n",
       "      dtype='object')"
      ]
     },
     "execution_count": 40,
     "metadata": {},
     "output_type": "execute_result"
    }
   ],
   "source": [
    "train_set.columns"
   ]
  },
  {
   "cell_type": "code",
   "execution_count": 41,
   "id": "e0f100f3",
   "metadata": {},
   "outputs": [],
   "source": [
    "# working with the training set for further preprocessing\n",
    "# select the features needed from the training set - will add the categorical features later\n",
    "attribute_list = ['calories', 'weight_(kg)', 'lean_mass_kg', 'bmi','fat_percentage','protein_per_kg'] \n",
    "\n",
    "# selecting the attributes from the training set\n",
    "data = train_set[attribute_list]\n",
    "data_test = test_set[attribute_list]"
   ]
  },
  {
   "cell_type": "code",
   "execution_count": 42,
   "id": "0b4a73b3",
   "metadata": {},
   "outputs": [],
   "source": [
    "# save to the artifacts folder\n",
    "os.makedirs('../artifacts', exist_ok=True)\n",
    "data.to_csv('../artifacts/ml_training_data.csv', index=False)\n",
    "data.to_csv('../artifacts/ml_test_data.csv', index=False)"
   ]
  },
  {
   "cell_type": "code",
   "execution_count": 15,
   "id": "8dbf2bf9",
   "metadata": {},
   "outputs": [
    {
     "data": {
      "text/plain": [
       "Index(['calories', 'weight_(kg)', 'lean_mass_kg', 'bmi', 'fat_percentage',\n",
       "       'protein_per_kg'],\n",
       "      dtype='object')"
      ]
     },
     "execution_count": 15,
     "metadata": {},
     "output_type": "execute_result"
    }
   ],
   "source": [
    "data.columns"
   ]
  },
  {
   "cell_type": "code",
   "execution_count": 16,
   "id": "9d50abb7",
   "metadata": {},
   "outputs": [],
   "source": [
    "# seperate target and features\n",
    "features = data.drop(columns='calories')\n",
    "target = data.calories"
   ]
  },
  {
   "cell_type": "code",
   "execution_count": 17,
   "id": "1d49184e",
   "metadata": {},
   "outputs": [
    {
     "data": {
      "application/vnd.microsoft.datawrangler.viewer.v0+json": {
       "columns": [
        {
         "name": "index",
         "rawType": "object",
         "type": "string"
        },
        {
         "name": "0",
         "rawType": "object",
         "type": "unknown"
        }
       ],
       "ref": "0ce47777-0d69-4b16-898b-31447ba6fc77",
       "rows": [
        [
         "calories",
         "float64"
        ],
        [
         "weight_(kg)",
         "float64"
        ],
        [
         "lean_mass_kg",
         "float64"
        ],
        [
         "bmi",
         "float64"
        ],
        [
         "fat_percentage",
         "float64"
        ],
        [
         "protein_per_kg",
         "float64"
        ]
       ],
       "shape": {
        "columns": 1,
        "rows": 6
       }
      },
      "text/plain": [
       "calories          float64\n",
       "weight_(kg)       float64\n",
       "lean_mass_kg      float64\n",
       "bmi               float64\n",
       "fat_percentage    float64\n",
       "protein_per_kg    float64\n",
       "dtype: object"
      ]
     },
     "execution_count": 17,
     "metadata": {},
     "output_type": "execute_result"
    }
   ],
   "source": [
    "data.dtypes"
   ]
  },
  {
   "cell_type": "code",
   "execution_count": 12,
   "id": "0681d4a4",
   "metadata": {},
   "outputs": [
    {
     "data": {
      "text/plain": [
       "<Figure size 1200x800 with 0 Axes>"
      ]
     },
     "metadata": {},
     "output_type": "display_data"
    },
    {
     "data": {
      "image/png": "[encoded data removed]",
      "text/plain": [
       "<Figure size 640x480 with 6 Axes>"
      ]
     },
     "metadata": {},
     "output_type": "display_data"
    }
   ],
   "source": [
    "import matplotlib.pyplot as plt\n",
    "# plotting histograms for the numerical features\n",
    "plt.figure(figsize=(12,8))\n",
    "data.hist(bins=30, edgecolor='black', alpha=0.7)\n",
    "plt.tight_layout()\n",
    "plt.show()"
   ]
  },
  {
   "cell_type": "code",
   "execution_count": 36,
   "id": "fa25d334",
   "metadata": {},
   "outputs": [
    {
     "data": {
      "text/plain": [
       "<Axes: >"
      ]
     },
     "execution_count": 36,
     "metadata": {},
     "output_type": "execute_result"
    },
    {
     "data": {
      "image/png": "[encoded data removed]",
      "text/plain": [
       "<Figure size 640x480 with 1 Axes>"
      ]
     },
     "metadata": {},
     "output_type": "display_data"
    }
   ],
   "source": [
    "data.fat_percentage.hist(bins=30, edgecolor='black', alpha=0.7)"
   ]
  },
  {
   "cell_type": "code",
   "execution_count": 13,
   "id": "e234b116",
   "metadata": {},
   "outputs": [],
   "source": [
    "# Oulier detection function using IQR method for a given feature\n",
    "def detect_outliers_iqr(data, feature):\n",
    "    Q1 = data[feature].quantile(0.25)\n",
    "    Q3 = data[feature].quantile(0.75)\n",
    "    IQR = Q3 - Q1\n",
    "    lower_bound = Q1 - 1.5 * IQR\n",
    "    upper_bound = Q3 + 1.5 * IQR\n",
    "    outliers = data[(data[feature] < lower_bound) | (data[feature] > upper_bound)]\n",
    "    return outliers\n",
    "\n"
   ]
  },
  {
   "cell_type": "code",
   "execution_count": 15,
   "id": "b1fa92a2",
   "metadata": {},
   "outputs": [
    {
     "name": "stdout",
     "output_type": "stream",
     "text": [
      "Feature: calories, Outliers: 81, Percentage: 0.51%\n",
      "Feature: weight_(kg), Outliers: 125, Percentage: 0.78%\n",
      "Feature: lean_mass_kg, Outliers: 16, Percentage: 0.10%\n",
      "Feature: bmi, Outliers: 436, Percentage: 2.73%\n",
      "Feature: fat_percentage, Outliers: 1, Percentage: 0.01%\n",
      "Feature: protein_per_kg, Outliers: 277, Percentage: 1.73%\n"
     ]
    }
   ],
   "source": [
    "# getting the percentage of outliers for each feature in the data\n",
    "for feature in data.columns:\n",
    "    outliers = detect_outliers_iqr(data, feature)\n",
    "    percentage = (outliers.shape[0] / data.shape[0]) * 100\n",
    "    print(f'Feature: {feature}, Outliers: {outliers.shape[0]}, Percentage: {percentage:.2f}%')"
   ]
  },
  {
   "cell_type": "code",
   "execution_count": 16,
   "id": "bd4c5638",
   "metadata": {},
   "outputs": [
    {
     "data": {
      "application/vnd.microsoft.datawrangler.viewer.v0+json": {
       "columns": [
        {
         "name": "index",
         "rawType": "object",
         "type": "string"
        },
        {
         "name": "count",
         "rawType": "float64",
         "type": "float"
        },
        {
         "name": "mean",
         "rawType": "float64",
         "type": "float"
        },
        {
         "name": "std",
         "rawType": "float64",
         "type": "float"
        },
        {
         "name": "min",
         "rawType": "float64",
         "type": "float"
        },
        {
         "name": "25%",
         "rawType": "float64",
         "type": "float"
        },
        {
         "name": "50%",
         "rawType": "float64",
         "type": "float"
        },
        {
         "name": "75%",
         "rawType": "float64",
         "type": "float"
        },
        {
         "name": "max",
         "rawType": "float64",
         "type": "float"
        }
       ],
       "ref": "df9f0364-73d9-4737-a7b5-bb0daa5135c8",
       "rows": [
        [
         "calories",
         "16000.0",
         "2023.2705625",
         "541.1164639406709",
         "781.0",
         "1635.0",
         "1917.0",
         "2361.0",
         "3641.0"
        ],
        [
         "weight_(kg)",
         "16000.0",
         "73.84852375000001",
         "21.16126132806119",
         "39.18",
         "58.13",
         "69.985",
         "86.08",
         "130.55"
        ],
        [
         "lean_mass_kg",
         "16000.0",
         "53.7495387711937",
         "12.500557733830453",
         "30.94626094233213",
         "44.53913465515116",
         "51.188366951469916",
         "61.85808006969134",
         "90.11737126575451"
        ],
        [
         "bmi",
         "16000.0",
         "24.922026874999997",
         "6.694084957734446",
         "12.04",
         "20.127499999999998",
         "24.16",
         "28.552500000000002",
         "50.23"
        ],
        [
         "fat_percentage",
         "16000.0",
         "26.10340058175682",
         "4.995643505682318",
         "11.333133614105773",
         "22.392372781926305",
         "25.837309018373837",
         "29.686115912753902",
         "35.0"
        ],
        [
         "protein_per_kg",
         "16000.0",
         "1.4611861238641877",
         "0.5205347341276969",
         "0.5167064439140812",
         "1.0791317817908745",
         "1.38279704286778",
         "1.7519300488083087",
         "3.916880691104366"
        ]
       ],
       "shape": {
        "columns": 8,
        "rows": 6
       }
      },
      "text/html": [
       "<div>\n",
       "<style scoped>\n",
       "    .dataframe tbody tr th:only-of-type {\n",
       "        vertical-align: middle;\n",
       "    }\n",
       "\n",
       "    .dataframe tbody tr th {\n",
       "        vertical-align: top;\n",
       "    }\n",
       "\n",
       "    .dataframe thead th {\n",
       "        text-align: right;\n",
       "    }\n",
       "</style>\n",
       "<table border=\"1\" class=\"dataframe\">\n",
       "  <thead>\n",
       "    <tr style=\"text-align: right;\">\n",
       "      <th></th>\n",
       "      <th>count</th>\n",
       "      <th>mean</th>\n",
       "      <th>std</th>\n",
       "      <th>min</th>\n",
       "      <th>25%</th>\n",
       "      <th>50%</th>\n",
       "      <th>75%</th>\n",
       "      <th>max</th>\n",
       "    </tr>\n",
       "  </thead>\n",
       "  <tbody>\n",
       "    <tr>\n",
       "      <th>calories</th>\n",
       "      <td>16000.0</td>\n",
       "      <td>2023.270563</td>\n",
       "      <td>541.116464</td>\n",
       "      <td>781.000000</td>\n",
       "      <td>1635.000000</td>\n",
       "      <td>1917.000000</td>\n",
       "      <td>2361.000000</td>\n",
       "      <td>3641.000000</td>\n",
       "    </tr>\n",
       "    <tr>\n",
       "      <th>weight_(kg)</th>\n",
       "      <td>16000.0</td>\n",
       "      <td>73.848524</td>\n",
       "      <td>21.161261</td>\n",
       "      <td>39.180000</td>\n",
       "      <td>58.130000</td>\n",
       "      <td>69.985000</td>\n",
       "      <td>86.080000</td>\n",
       "      <td>130.550000</td>\n",
       "    </tr>\n",
       "    <tr>\n",
       "      <th>lean_mass_kg</th>\n",
       "      <td>16000.0</td>\n",
       "      <td>53.749539</td>\n",
       "      <td>12.500558</td>\n",
       "      <td>30.946261</td>\n",
       "      <td>44.539135</td>\n",
       "      <td>51.188367</td>\n",
       "      <td>61.858080</td>\n",
       "      <td>90.117371</td>\n",
       "    </tr>\n",
       "    <tr>\n",
       "      <th>bmi</th>\n",
       "      <td>16000.0</td>\n",
       "      <td>24.922027</td>\n",
       "      <td>6.694085</td>\n",
       "      <td>12.040000</td>\n",
       "      <td>20.127500</td>\n",
       "      <td>24.160000</td>\n",
       "      <td>28.552500</td>\n",
       "      <td>50.230000</td>\n",
       "    </tr>\n",
       "    <tr>\n",
       "      <th>fat_percentage</th>\n",
       "      <td>16000.0</td>\n",
       "      <td>26.103401</td>\n",
       "      <td>4.995644</td>\n",
       "      <td>11.333134</td>\n",
       "      <td>22.392373</td>\n",
       "      <td>25.837309</td>\n",
       "      <td>29.686116</td>\n",
       "      <td>35.000000</td>\n",
       "    </tr>\n",
       "    <tr>\n",
       "      <th>protein_per_kg</th>\n",
       "      <td>16000.0</td>\n",
       "      <td>1.461186</td>\n",
       "      <td>0.520535</td>\n",
       "      <td>0.516706</td>\n",
       "      <td>1.079132</td>\n",
       "      <td>1.382797</td>\n",
       "      <td>1.751930</td>\n",
       "      <td>3.916881</td>\n",
       "    </tr>\n",
       "  </tbody>\n",
       "</table>\n",
       "</div>"
      ],
      "text/plain": [
       "                  count         mean         std         min          25%  \\\n",
       "calories        16000.0  2023.270563  541.116464  781.000000  1635.000000   \n",
       "weight_(kg)     16000.0    73.848524   21.161261   39.180000    58.130000   \n",
       "lean_mass_kg    16000.0    53.749539   12.500558   30.946261    44.539135   \n",
       "bmi             16000.0    24.922027    6.694085   12.040000    20.127500   \n",
       "fat_percentage  16000.0    26.103401    4.995644   11.333134    22.392373   \n",
       "protein_per_kg  16000.0     1.461186    0.520535    0.516706     1.079132   \n",
       "\n",
       "                        50%          75%          max  \n",
       "calories        1917.000000  2361.000000  3641.000000  \n",
       "weight_(kg)       69.985000    86.080000   130.550000  \n",
       "lean_mass_kg      51.188367    61.858080    90.117371  \n",
       "bmi               24.160000    28.552500    50.230000  \n",
       "fat_percentage    25.837309    29.686116    35.000000  \n",
       "protein_per_kg     1.382797     1.751930     3.916881  "
      ]
     },
     "execution_count": 16,
     "metadata": {},
     "output_type": "execute_result"
    }
   ],
   "source": [
    "data.describe().T"
   ]
  },
  {
   "cell_type": "code",
   "execution_count": 48,
   "id": "7f970c18",
   "metadata": {},
   "outputs": [
    {
     "data": {
      "image/png": "[encoded data removed]",
      "text/plain": [
       "<Figure size 1200x800 with 6 Axes>"
      ]
     },
     "metadata": {},
     "output_type": "display_data"
    }
   ],
   "source": [
    "\n",
    "data.plot(kind='box', subplots=True, layout=(2,3), figsize=(12,8), title='Boxplot for Numerical Features', grid=True)\n",
    "plt.tight_layout()\n",
    "plt.show()\n"
   ]
  },
  {
   "cell_type": "code",
   "execution_count": 60,
   "id": "aa26c7af",
   "metadata": {},
   "outputs": [],
   "source": [
    "# the outlier rate are low less than 5% for all the features\n",
    "# let's remove the outliers from the data\n",
    "def remove_outliers_iqr(data, feature):\n",
    "    Q1 = data[feature].quantile(0.25)\n",
    "    Q3 = data[feature].quantile(0.75)\n",
    "    IQR = Q3 - Q1\n",
    "    lower_bound = Q1 - 1.5 * IQR\n",
    "    upper_bound = Q3 + 1.5 * IQR\n",
    "    filtered_data = data[(data[feature] >= lower_bound) & (data[feature] <= upper_bound)]\n",
    "    return filtered_data"
   ]
  },
  {
   "cell_type": "code",
   "execution_count": 17,
   "id": "842a6b3f",
   "metadata": {},
   "outputs": [],
   "source": [
    "def remove_outliers_iqr(df, column_name):\n",
    "    \"\"\"\n",
    "    Removes outliers from a specific column of a DataFrame using the IQR method.\n",
    "    The IQR method is robust and works well with skewed data.\n",
    "    \n",
    "    Args:\n",
    "        df (pd.DataFrame): The input DataFrame.\n",
    "        column_name (str): The name of the column to clean.\n",
    "\n",
    "    Returns:\n",
    "        pd.DataFrame: A new DataFrame with outliers removed.\n",
    "    \"\"\"\n",
    "    Q1 = df[column_name].quantile(0.25)\n",
    "    Q3 = df[column_name].quantile(0.75)\n",
    "    IQR = Q3 - Q1\n",
    "    lower_bound = Q1 - 1.5 * IQR\n",
    "    upper_bound = Q3 + 1.5 * IQR\n",
    "    \n",
    "    # Filter the DataFrame to keep only the non-outlier data\n",
    "    clean_df = df[(df[column_name] >= lower_bound) & (df[column_name] <= upper_bound)]\n",
    "    \n",
    "    return clean_df\n"
   ]
  },
  {
   "cell_type": "code",
   "execution_count": 19,
   "id": "53b56c1c",
   "metadata": {},
   "outputs": [
    {
     "name": "stdout",
     "output_type": "stream",
     "text": [
      "Removing outliers for feature: calories\n",
      "Removing outliers for feature: weight_(kg)\n",
      "Removing outliers for feature: lean_mass_kg\n",
      "Removing outliers for feature: bmi\n",
      "Removing outliers for feature: fat_percentage\n",
      "Removing outliers for feature: protein_per_kg\n"
     ]
    }
   ],
   "source": [
    "# remove outliers for all features in  the data\n",
    "for feature in data.columns:\n",
    "    print(f'Removing outliers for feature: {feature}')\n",
    "    data = remove_outliers_iqr(data, feature)\n",
    "    "
   ]
  },
  {
   "cell_type": "code",
   "execution_count": 20,
   "id": "a6a4bd46",
   "metadata": {},
   "outputs": [
    {
     "data": {
      "text/plain": [
       "(15153, 6)"
      ]
     },
     "execution_count": 20,
     "metadata": {},
     "output_type": "execute_result"
    }
   ],
   "source": [
    "data.shape"
   ]
  },
  {
   "cell_type": "code",
   "execution_count": null,
   "id": "ae3848a3",
   "metadata": {},
   "outputs": [],
   "source": []
  },
  {
   "cell_type": "code",
   "execution_count": 21,
   "id": "3922f4e7",
   "metadata": {},
   "outputs": [
    {
     "data": {
      "image/png": "[encoded data removed]",
      "text/plain": [
       "<Figure size 1200x800 with 6 Axes>"
      ]
     },
     "metadata": {},
     "output_type": "display_data"
    }
   ],
   "source": [
    "# let now check the features again\n",
    "data.plot(kind='box', subplots=True, layout=(2,3), figsize=(12,8), title='Boxplot for Numerical Features', grid=True)\n",
    "plt.tight_layout()\n",
    "plt.show()"
   ]
  },
  {
   "cell_type": "markdown",
   "id": "affc9a3f",
   "metadata": {},
   "source": [
    "preprocessing pipeline\n",
    "* onehot encoding body_part and equipment_needed\n",
    "* binary encoding benefit - the columns are much. using onehot encoding will lead to high dimensionality and cardinality."
   ]
  },
  {
   "cell_type": "code",
   "execution_count": 18,
   "id": "a3985787",
   "metadata": {},
   "outputs": [],
   "source": [
    "# Dealing with outlier using isolation forest\n",
    "from sklearn.ensemble import IsolationForest\n",
    "\n",
    "isolation_forest = IsolationForest(random_state=42)\n",
    "outlier_pred = isolation_forest.fit_predict(features)"
   ]
  },
  {
   "cell_type": "code",
   "execution_count": null,
   "id": "824ca8f3",
   "metadata": {},
   "outputs": [],
   "source": [
    "# removing outlier\n",
    "features = features.iloc[outlier_pred == 1]\n",
    "target = target.iloc[outlier_pred == 1]"
   ]
  },
  {
   "cell_type": "code",
   "execution_count": 22,
   "id": "25af23dd",
   "metadata": {},
   "outputs": [
    {
     "data": {
      "image/png": "[encoded data removed]",
      "text/plain": [
       "<Figure size 1200x800 with 6 Axes>"
      ]
     },
     "metadata": {},
     "output_type": "display_data"
    }
   ],
   "source": [
    "# let now check the features again\n",
    "import matplotlib.pyplot as plt\n",
    "features.plot(kind='box', subplots=True, layout=(2,3), figsize=(12,8), title='Boxplot for Numerical Features', grid=True)\n",
    "plt.tight_layout()\n",
    "plt.show()"
   ]
  },
  {
   "cell_type": "code",
   "execution_count": 24,
   "id": "99a7aa77",
   "metadata": {},
   "outputs": [],
   "source": [
    "# Preprocessing pipeline \n",
    "from sklearn.pipeline import make_pipeline\n",
    "from sklearn.impute import SimpleImputer\n",
    "from sklearn.preprocessing import StandardScaler, FunctionTransformer\n",
    "from sklearn.compose import make_column_selector, make_column_transformer\n",
    "# defining numerical and categorical columns\n",
    "\n",
    "# preprocessing pipeline the numerical features that is all the features in the dataset\n",
    "# defining pipeline\n",
    "num_pipeline = make_pipeline(SimpleImputer(strategy=\"median\"),\n",
    "                                     StandardScaler())\n",
    "# pipeline for  the log transformation to handle skew features\n",
    "log_pipeline = make_pipeline(\n",
    "    SimpleImputer(strategy=\"median\"),\n",
    "    FunctionTransformer(np.log, feature_names_out=\"one-to-one\"),\n",
    "    StandardScaler())\n",
    "\n",
    "\n",
    "\n",
    "# building the preprocessing pipeline\n",
    "preprocessing = make_column_transformer(\n",
    "    (num_pipeline, make_column_selector(dtype_include=np.number)),\n",
    "    (log_pipeline, make_column_selector(dtype_include=np.number)),\n",
    ")\n",
    "\n",
    "\n"
   ]
  },
  {
   "cell_type": "code",
   "execution_count": 25,
   "id": "52e6950b",
   "metadata": {},
   "outputs": [],
   "source": [
    "features_prepared = preprocessing.fit_transform(features)\n"
   ]
  },
  {
   "cell_type": "code",
   "execution_count": 28,
   "id": "e9683579",
   "metadata": {},
   "outputs": [
    {
     "data": {
      "text/plain": [
       "array(['pipeline-1__weight_(kg)', 'pipeline-1__lean_mass_kg',\n",
       "       'pipeline-1__bmi', 'pipeline-1__fat_percentage',\n",
       "       'pipeline-1__protein_per_kg', 'pipeline-2__weight_(kg)',\n",
       "       'pipeline-2__lean_mass_kg', 'pipeline-2__bmi',\n",
       "       'pipeline-2__fat_percentage', 'pipeline-2__protein_per_kg'],\n",
       "      dtype=object)"
      ]
     },
     "execution_count": 28,
     "metadata": {},
     "output_type": "execute_result"
    }
   ],
   "source": [
    "preprocessing.get_feature_names_out()"
   ]
  },
  {
   "cell_type": "code",
   "execution_count": 29,
   "id": "8621d5de",
   "metadata": {},
   "outputs": [
    {
     "data": {
      "application/vnd.microsoft.datawrangler.viewer.v0+json": {
       "columns": [
        {
         "name": "index",
         "rawType": "int64",
         "type": "integer"
        },
        {
         "name": "pipeline-1__weight_(kg)",
         "rawType": "float64",
         "type": "float"
        },
        {
         "name": "pipeline-1__lean_mass_kg",
         "rawType": "float64",
         "type": "float"
        },
        {
         "name": "pipeline-1__bmi",
         "rawType": "float64",
         "type": "float"
        },
        {
         "name": "pipeline-1__fat_percentage",
         "rawType": "float64",
         "type": "float"
        },
        {
         "name": "pipeline-1__protein_per_kg",
         "rawType": "float64",
         "type": "float"
        },
        {
         "name": "pipeline-2__weight_(kg)",
         "rawType": "float64",
         "type": "float"
        },
        {
         "name": "pipeline-2__lean_mass_kg",
         "rawType": "float64",
         "type": "float"
        },
        {
         "name": "pipeline-2__bmi",
         "rawType": "float64",
         "type": "float"
        },
        {
         "name": "pipeline-2__fat_percentage",
         "rawType": "float64",
         "type": "float"
        },
        {
         "name": "pipeline-2__protein_per_kg",
         "rawType": "float64",
         "type": "float"
        }
       ],
       "ref": "79081835-6fed-4048-9d5b-ac8b9b97b3e3",
       "rows": [
        [
         "5894",
         "0.32744867573571623",
         "0.5740417295522631",
         "-0.0713390477769653",
         "-0.46642983892091505",
         "0.9441186563896244",
         "0.41236715092980414",
         "0.6329252603488",
         "0.01971470751615365",
         "-0.4022753843735007",
         "0.9841953509719462"
        ],
        [
         "3728",
         "-1.292526879036919",
         "-1.2500429503683497",
         "-0.8255405182702868",
         "-0.9403577112746125",
         "0.9223314683635809",
         "-1.3929408207138676",
         "-1.3249598725290717",
         "-0.7817820690172004",
         "-0.9230917024772497",
         "0.9666474363600314"
        ],
        [
         "8958",
         "0.004223149367779327",
         "-0.2402098377632621",
         "0.624123990434944",
         "0.8948216554571066",
         "-0.6993608498262947",
         "0.09744009044399414",
         "-0.1663582723306275",
         "0.6671479361771855",
         "0.9017012364162604",
         "-0.6495727894738038"
        ],
        [
         "7671",
         "0.9308029916225316",
         "1.1151421051032484",
         "-0.8067442199402356",
         "0.0225208612811948",
         "-1.311351846883489",
         "0.9549265019413181",
         "1.1125980474033006",
         "-0.7603086795803814",
         "0.09576824510303711",
         "-1.5066683332522879"
        ],
        [
         "5999",
         "-0.6022095048653967",
         "-0.7537911353673276",
         "0.4291123952606589",
         "0.30991196907590146",
         "0.10413231377559298",
         "-0.5484776688933897",
         "-0.7287534639987482",
         "0.49321383095060595",
         "0.37213006134209853",
         "0.23894181205290407"
        ]
       ],
       "shape": {
        "columns": 10,
        "rows": 5
       }
      },
      "text/html": [
       "<div>\n",
       "<style scoped>\n",
       "    .dataframe tbody tr th:only-of-type {\n",
       "        vertical-align: middle;\n",
       "    }\n",
       "\n",
       "    .dataframe tbody tr th {\n",
       "        vertical-align: top;\n",
       "    }\n",
       "\n",
       "    .dataframe thead th {\n",
       "        text-align: right;\n",
       "    }\n",
       "</style>\n",
       "<table border=\"1\" class=\"dataframe\">\n",
       "  <thead>\n",
       "    <tr style=\"text-align: right;\">\n",
       "      <th></th>\n",
       "      <th>pipeline-1__weight_(kg)</th>\n",
       "      <th>pipeline-1__lean_mass_kg</th>\n",
       "      <th>pipeline-1__bmi</th>\n",
       "      <th>pipeline-1__fat_percentage</th>\n",
       "      <th>pipeline-1__protein_per_kg</th>\n",
       "      <th>pipeline-2__weight_(kg)</th>\n",
       "      <th>pipeline-2__lean_mass_kg</th>\n",
       "      <th>pipeline-2__bmi</th>\n",
       "      <th>pipeline-2__fat_percentage</th>\n",
       "      <th>pipeline-2__protein_per_kg</th>\n",
       "    </tr>\n",
       "  </thead>\n",
       "  <tbody>\n",
       "    <tr>\n",
       "      <th>5894</th>\n",
       "      <td>0.327449</td>\n",
       "      <td>0.574042</td>\n",
       "      <td>-0.071339</td>\n",
       "      <td>-0.466430</td>\n",
       "      <td>0.944119</td>\n",
       "      <td>0.412367</td>\n",
       "      <td>0.632925</td>\n",
       "      <td>0.019715</td>\n",
       "      <td>-0.402275</td>\n",
       "      <td>0.984195</td>\n",
       "    </tr>\n",
       "    <tr>\n",
       "      <th>3728</th>\n",
       "      <td>-1.292527</td>\n",
       "      <td>-1.250043</td>\n",
       "      <td>-0.825541</td>\n",
       "      <td>-0.940358</td>\n",
       "      <td>0.922331</td>\n",
       "      <td>-1.392941</td>\n",
       "      <td>-1.324960</td>\n",
       "      <td>-0.781782</td>\n",
       "      <td>-0.923092</td>\n",
       "      <td>0.966647</td>\n",
       "    </tr>\n",
       "    <tr>\n",
       "      <th>8958</th>\n",
       "      <td>0.004223</td>\n",
       "      <td>-0.240210</td>\n",
       "      <td>0.624124</td>\n",
       "      <td>0.894822</td>\n",
       "      <td>-0.699361</td>\n",
       "      <td>0.097440</td>\n",
       "      <td>-0.166358</td>\n",
       "      <td>0.667148</td>\n",
       "      <td>0.901701</td>\n",
       "      <td>-0.649573</td>\n",
       "    </tr>\n",
       "    <tr>\n",
       "      <th>7671</th>\n",
       "      <td>0.930803</td>\n",
       "      <td>1.115142</td>\n",
       "      <td>-0.806744</td>\n",
       "      <td>0.022521</td>\n",
       "      <td>-1.311352</td>\n",
       "      <td>0.954927</td>\n",
       "      <td>1.112598</td>\n",
       "      <td>-0.760309</td>\n",
       "      <td>0.095768</td>\n",
       "      <td>-1.506668</td>\n",
       "    </tr>\n",
       "    <tr>\n",
       "      <th>5999</th>\n",
       "      <td>-0.602210</td>\n",
       "      <td>-0.753791</td>\n",
       "      <td>0.429112</td>\n",
       "      <td>0.309912</td>\n",
       "      <td>0.104132</td>\n",
       "      <td>-0.548478</td>\n",
       "      <td>-0.728753</td>\n",
       "      <td>0.493214</td>\n",
       "      <td>0.372130</td>\n",
       "      <td>0.238942</td>\n",
       "    </tr>\n",
       "  </tbody>\n",
       "</table>\n",
       "</div>"
      ],
      "text/plain": [
       "      pipeline-1__weight_(kg)  pipeline-1__lean_mass_kg  pipeline-1__bmi  \\\n",
       "5894                 0.327449                  0.574042        -0.071339   \n",
       "3728                -1.292527                 -1.250043        -0.825541   \n",
       "8958                 0.004223                 -0.240210         0.624124   \n",
       "7671                 0.930803                  1.115142        -0.806744   \n",
       "5999                -0.602210                 -0.753791         0.429112   \n",
       "\n",
       "      pipeline-1__fat_percentage  pipeline-1__protein_per_kg  \\\n",
       "5894                   -0.466430                    0.944119   \n",
       "3728                   -0.940358                    0.922331   \n",
       "8958                    0.894822                   -0.699361   \n",
       "7671                    0.022521                   -1.311352   \n",
       "5999                    0.309912                    0.104132   \n",
       "\n",
       "      pipeline-2__weight_(kg)  pipeline-2__lean_mass_kg  pipeline-2__bmi  \\\n",
       "5894                 0.412367                  0.632925         0.019715   \n",
       "3728                -1.392941                 -1.324960        -0.781782   \n",
       "8958                 0.097440                 -0.166358         0.667148   \n",
       "7671                 0.954927                  1.112598        -0.760309   \n",
       "5999                -0.548478                 -0.728753         0.493214   \n",
       "\n",
       "      pipeline-2__fat_percentage  pipeline-2__protein_per_kg  \n",
       "5894                   -0.402275                    0.984195  \n",
       "3728                   -0.923092                    0.966647  \n",
       "8958                    0.901701                   -0.649573  \n",
       "7671                    0.095768                   -1.506668  \n",
       "5999                    0.372130                    0.238942  "
      ]
     },
     "execution_count": 29,
     "metadata": {},
     "output_type": "execute_result"
    }
   ],
   "source": [
    "# extra code – shows that we can get a DataFrame out if we want\n",
    "features_prepared = pd.DataFrame(\n",
    "    features_prepared,\n",
    "    columns=preprocessing.get_feature_names_out(),\n",
    "    index=features.index)\n",
    "features_prepared.head()"
   ]
  },
  {
   "cell_type": "code",
   "execution_count": 30,
   "id": "2e786e33",
   "metadata": {},
   "outputs": [],
   "source": [
    "features_prepared.to_csv('../artifacts/ml_features_prepared.csv', index=False)"
   ]
  },
  {
   "cell_type": "code",
   "execution_count": null,
   "id": "510d9704",
   "metadata": {},
   "outputs": [],
   "source": []
  },
  {
   "cell_type": "code",
   "execution_count": null,
   "id": "d4ab6198",
   "metadata": {},
   "outputs": [],
   "source": []
  },
  {
   "cell_type": "code",
   "execution_count": null,
   "id": "38542a9c",
   "metadata": {},
   "outputs": [],
   "source": []
  },
  {
   "cell_type": "code",
   "execution_count": null,
   "id": "c77d8b18",
   "metadata": {},
   "outputs": [],
   "source": [
    "\n",
    "\n"
   ]
  }
 ],
 "metadata": {
  "kernelspec": {
   "display_name": "mlops",
   "language": "python",
   "name": "python3"
  },
  "language_info": {
   "codemirror_mode": {
    "name": "ipython",
    "version": 3
   },
   "file_extension": ".py",
   "mimetype": "text/x-python",
   "name": "python",
   "nbconvert_exporter": "python",
   "pygments_lexer": "ipython3",
   "version": "3.10.16"
  }
 },
 "nbformat": 4,
 "nbformat_minor": 5
}
